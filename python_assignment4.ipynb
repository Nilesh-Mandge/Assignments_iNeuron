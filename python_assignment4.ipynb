{
  "nbformat": 4,
  "nbformat_minor": 0,
  "metadata": {
    "colab": {
      "name": "python_assignment4.ipynb",
      "provenance": [],
      "collapsed_sections": []
    },
    "kernelspec": {
      "name": "python3",
      "display_name": "Python 3"
    }
  },
  "cells": [
    {
      "cell_type": "markdown",
      "metadata": {
        "id": "uXqeaNXbOKKt",
        "colab_type": "text"
      },
      "source": [
        "# Task 1"
      ]
    },
    {
      "cell_type": "markdown",
      "metadata": {
        "id": "vHL54YCxCqXU",
        "colab_type": "text"
      },
      "source": [
        "1.1 Write a Python Program(with class concepts) to find the area of the triangle using the below\n",
        "formula.\n",
        "\n",
        "area = (s*(s-a)*(s-b)*(s-c)) *** 0.5\n",
        "\n",
        "Function to take the length of the sides of triangle from user should be defined in the parent\n",
        "class and function to calculate the area should be defined in subclass."
      ]
    },
    {
      "cell_type": "code",
      "metadata": {
        "id": "aGC_MDBBC0f6",
        "colab_type": "code",
        "colab": {}
      },
      "source": [
        "class parent:\n",
        "  def get_ln():\n",
        "    return list(map(int, input(\"Enter the length of sides of triangle: \").split()))\n",
        "\n",
        "\n",
        "class child:\n",
        "  def area_cal():\n",
        "    x = parent.get_ln()\n",
        "    a, b, c = x\n",
        "    s = (a+b+c)/2\n",
        "    area = (s*(s-a)*(s-b)*(s-c)) ** 0.5\n",
        "    print(\"Area of triangle is: {:.2f}\".format(area))\n",
        "    \n"
      ],
      "execution_count": 0,
      "outputs": []
    },
    {
      "cell_type": "code",
      "metadata": {
        "id": "PpjSs2v9FOYz",
        "colab_type": "code",
        "outputId": "b165cc21-f8de-4723-da16-2786f8e48f2e",
        "colab": {
          "base_uri": "https://localhost:8080/",
          "height": 52
        }
      },
      "source": [
        "child.area_cal()"
      ],
      "execution_count": 0,
      "outputs": [
        {
          "output_type": "stream",
          "text": [
            "Enter the length of sides of triangle: 5 6 7\n",
            "Area of triangle is: 14.70\n"
          ],
          "name": "stdout"
        }
      ]
    },
    {
      "cell_type": "markdown",
      "metadata": {
        "id": "Gt4sJghQPp7y",
        "colab_type": "text"
      },
      "source": [
        "1.2 Write a function filter_long_words() that takes a list of words and an integer n and returns\n",
        "the list of words that are longer than n."
      ]
    },
    {
      "cell_type": "code",
      "metadata": {
        "id": "RXWkI4zfFyYE",
        "colab_type": "code",
        "outputId": "e725650a-86be-460e-f7b1-b7d63d15df10",
        "colab": {
          "base_uri": "https://localhost:8080/",
          "height": 35
        }
      },
      "source": [
        "def filter_long_words(x, n):\n",
        "  print([word for word in x if len(word) > n])"
      ],
      "execution_count": 0,
      "outputs": [
        {
          "output_type": "stream",
          "text": [
            "3\n"
          ],
          "name": "stdout"
        }
      ]
    },
    {
      "cell_type": "code",
      "metadata": {
        "id": "2eRvo1ZyHjLP",
        "colab_type": "code",
        "outputId": "b7984bd9-f4e0-47c1-d58e-4f4e84a72730",
        "colab": {
          "base_uri": "https://localhost:8080/",
          "height": 52
        }
      },
      "source": [
        "x = ['sydney', 'sunday', 'on', 'in', 'of', 'holiday', 'crossover']\n",
        "filter_long_words(x, n = int(input()))"
      ],
      "execution_count": 0,
      "outputs": [
        {
          "output_type": "stream",
          "text": [
            "1\n",
            "['sydney', 'sunday', 'on', 'in', 'of', 'holiday', 'crossover']\n"
          ],
          "name": "stdout"
        }
      ]
    },
    {
      "cell_type": "markdown",
      "metadata": {
        "id": "qQTsH616SNkN",
        "colab_type": "text"
      },
      "source": [
        "#Task 2"
      ]
    },
    {
      "cell_type": "markdown",
      "metadata": {
        "id": "07-70zH_SQeR",
        "colab_type": "text"
      },
      "source": [
        "2.1 Write a Python program using function concept that maps list of words into a list of integers\n",
        "representing the lengths of the corresponding words.\n",
        "\n",
        "Hint: If a list [ ab,cde,erty] is passed on to the python function output should come as [2,3,4]\n",
        "\n",
        "Here 2,3 and 4 are the lengths of the words in the list."
      ]
    },
    {
      "cell_type": "code",
      "metadata": {
        "id": "iVEYJdhOQugo",
        "colab_type": "code",
        "colab": {}
      },
      "source": [
        "def len_words(x):\n",
        "  print([len(word) for word in x])"
      ],
      "execution_count": 0,
      "outputs": []
    },
    {
      "cell_type": "code",
      "metadata": {
        "id": "fY9Mo6YnQy-j",
        "colab_type": "code",
        "outputId": "0944b327-7f99-4e30-9c59-e1aa7668833f",
        "colab": {
          "base_uri": "https://localhost:8080/",
          "height": 35
        }
      },
      "source": [
        "x = ['sydney', 'sunday', 'on', 'in', 'of', 'holiday', 'crossover']\n",
        "len_words(x)"
      ],
      "execution_count": 0,
      "outputs": [
        {
          "output_type": "stream",
          "text": [
            "[6, 6, 2, 2, 2, 7, 9]\n"
          ],
          "name": "stdout"
        }
      ]
    },
    {
      "cell_type": "markdown",
      "metadata": {
        "id": "fh4LPZUPSXPU",
        "colab_type": "text"
      },
      "source": [
        "2.2 Write a Python function which takes a character (i.e. a string of length 1) and returns True if\n",
        "it is a vowel, False otherwise."
      ]
    },
    {
      "cell_type": "code",
      "metadata": {
        "id": "I7FM7BQFR95z",
        "colab_type": "code",
        "colab": {}
      },
      "source": [
        "vowels = ['a', 'e', 'i', 'o', 'u', 'A', 'E', 'I', 'O', 'U']\n",
        "def is_vowel(ch):\n",
        "  if (len(ch) > 1):\n",
        "    return \"please provide only single character\"\n",
        "  else:\n",
        "    if ch in vowels:\n",
        "      return True\n",
        "    else:\n",
        "      return False"
      ],
      "execution_count": 0,
      "outputs": []
    },
    {
      "cell_type": "code",
      "metadata": {
        "id": "aKk6Eo6YTMSv",
        "colab_type": "code",
        "outputId": "66a9f742-2bf7-420a-f9ad-5fe36799f82d",
        "colab": {
          "base_uri": "https://localhost:8080/",
          "height": 35
        }
      },
      "source": [
        "is_vowel('I')"
      ],
      "execution_count": 0,
      "outputs": [
        {
          "output_type": "execute_result",
          "data": {
            "text/plain": [
              "True"
            ]
          },
          "metadata": {
            "tags": []
          },
          "execution_count": 96
        }
      ]
    }
  ]
}