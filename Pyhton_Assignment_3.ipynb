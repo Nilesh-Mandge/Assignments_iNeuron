{
  "nbformat": 4,
  "nbformat_minor": 0,
  "metadata": {
    "colab": {
      "name": "Pyhton_Assignment_3.ipynb",
      "provenance": [],
      "collapsed_sections": []
    },
    "kernelspec": {
      "name": "python3",
      "display_name": "Python 3"
    }
  },
  "cells": [
    {
      "cell_type": "markdown",
      "metadata": {
        "id": "BjODdy6sISPj",
        "colab_type": "text"
      },
      "source": [
        "### Question 1 : Write a Python Program to implement your own myreduce() function which works exactly like Python's built-in function reduce()"
      ]
    },
    {
      "cell_type": "code",
      "metadata": {
        "id": "iyFzZUnnITaI",
        "colab_type": "code",
        "colab": {}
      },
      "source": [
        "def myreduce(func, seq, init= None):\n",
        "  \n",
        "  it = iter(seq)\n",
        "\n",
        "  if init == None:\n",
        "      value = next(it)\n",
        "      print(\"Current Value is: \",value)\n",
        "  else:\n",
        "    value = init\n",
        "\n",
        "  for ele in it:\n",
        "    print(\"value : {} , Element : {}\".format(value, ele))\n",
        "    value = func(value, ele)\n",
        "\n",
        "  return value"
      ],
      "execution_count": 0,
      "outputs": []
    },
    {
      "cell_type": "code",
      "metadata": {
        "id": "85eJCleWIgiL",
        "colab_type": "code",
        "colab": {
          "base_uri": "https://localhost:8080/",
          "height": 121
        },
        "outputId": "a48c6bb2-8757-4078-ec42-a2e4c65f4153"
      },
      "source": [
        "# With Initial value given as 7\n",
        "\n",
        "my_numbers = [4, 6, 9, 23, 5]\n",
        "reduce_result = myreduce(lambda num1, num2: num1 * num2, my_numbers, 7)\n",
        "print(reduce_result)"
      ],
      "execution_count": 7,
      "outputs": [
        {
          "output_type": "stream",
          "text": [
            "value : 7 , Element : 4\n",
            "value : 28 , Element : 6\n",
            "value : 168 , Element : 9\n",
            "value : 1512 , Element : 23\n",
            "value : 34776 , Element : 5\n",
            "173880\n"
          ],
          "name": "stdout"
        }
      ]
    },
    {
      "cell_type": "code",
      "metadata": {
        "id": "KXlXHMj6ImNg",
        "colab_type": "code",
        "colab": {
          "base_uri": "https://localhost:8080/",
          "height": 121
        },
        "outputId": "d7fe82c8-8c4b-4e9b-9b52-e7db86bcd900"
      },
      "source": [
        "# Without Initial Value\n",
        "\n",
        "my_numbers = [4, 6, 9, 23, 5]\n",
        "reduce_result = myreduce(lambda num1, num2: num1 * num2, my_numbers)\n",
        "print(reduce_result)"
      ],
      "execution_count": 8,
      "outputs": [
        {
          "output_type": "stream",
          "text": [
            "Current Value is:  4\n",
            "value : 4 , Element : 6\n",
            "value : 24 , Element : 9\n",
            "value : 216 , Element : 23\n",
            "value : 4968 , Element : 5\n",
            "24840\n"
          ],
          "name": "stdout"
        }
      ]
    },
    {
      "cell_type": "markdown",
      "metadata": {
        "id": "TrNIz6gaIfYV",
        "colab_type": "text"
      },
      "source": [
        "### Question 2 : Write a Python program to implement your own myfilter() function which works exactly like Python's built-in function filter()"
      ]
    },
    {
      "cell_type": "code",
      "metadata": {
        "id": "XiJGoX2YJM5I",
        "colab_type": "code",
        "colab": {}
      },
      "source": [
        "# This is filter function which accept function and iterable as parameter\n",
        "def myFilter(func, seq): #(it could be any function or None, seq is list of alphabets)\n",
        "  res = []\n",
        "  it = iter(seq)\n",
        "  for ele in it:\n",
        "    if func == None:\n",
        "      if(ele):\n",
        "        res.append(ele)\n",
        "    elif(func(ele)):\n",
        "      res.append(ele)\n",
        "  return res"
      ],
      "execution_count": 0,
      "outputs": []
    },
    {
      "cell_type": "code",
      "metadata": {
        "id": "rQzCu9KbbjnW",
        "colab_type": "code",
        "colab": {}
      },
      "source": [
        "def isVowel(alph):\n",
        "  vowels = ['a', 'e', 'i', 'o', 'u']\n",
        "  # print(alph)\n",
        "  if (alph in vowels):\n",
        "    return True\n",
        "  else:\n",
        "    return False\n"
      ],
      "execution_count": 0,
      "outputs": []
    },
    {
      "cell_type": "code",
      "metadata": {
        "id": "-ITaN_u9dCoB",
        "colab_type": "code",
        "colab": {
          "base_uri": "https://localhost:8080/",
          "height": 104
        },
        "outputId": "94d1cf04-7801-4eb6-aa8c-f26ff0591204"
      },
      "source": [
        "# with function given as parameter\n",
        "filteredRes = myFilter(isVowel, ['a', 'b', 'd', 'e', 'i', 'j', 'o'])\n",
        "print(\"The filtered elements are: \")\n",
        "for i in filteredRes:\n",
        "  print(i)"
      ],
      "execution_count": 35,
      "outputs": [
        {
          "output_type": "stream",
          "text": [
            "The filtered elements are: \n",
            "a\n",
            "e\n",
            "i\n",
            "o\n"
          ],
          "name": "stdout"
        }
      ]
    },
    {
      "cell_type": "code",
      "metadata": {
        "id": "rLLN7H3BfFc4",
        "colab_type": "code",
        "colab": {
          "base_uri": "https://localhost:8080/",
          "height": 104
        },
        "outputId": "4ae0f76e-213f-48c4-e1b7-18fd0b9b795e"
      },
      "source": [
        "# without Function \n",
        "filResult = myFilter(None, [1, 'a', 0, False, True, '0'])\n",
        "print(\"The filtered elements are: \")\n",
        "for i in filResult:\n",
        "  print(i)"
      ],
      "execution_count": 38,
      "outputs": [
        {
          "output_type": "stream",
          "text": [
            "The filtered elements are: \n",
            "1\n",
            "a\n",
            "True\n",
            "0\n"
          ],
          "name": "stdout"
        }
      ]
    },
    {
      "cell_type": "markdown",
      "metadata": {
        "id": "jGffqz3ToPHw",
        "colab_type": "text"
      },
      "source": [
        "Question 3 : Implement List comprehensions to produce the following lists.\n",
        "Write List comprehensions to produce the following Lists\n",
        "\n",
        "['x', 'xx', 'xxx', 'xxxx', 'y', 'yy', 'yyy', 'yyyy', 'z', 'zz', 'zzz', 'zzzz']\n",
        "\n",
        "['x', 'y', 'z', 'xx', 'yy', 'zz', 'xxx', 'yyy', 'zzz', 'xxxx', 'yyyy', 'zzzz']\n",
        "\n",
        "[[2], [3], [4], [3], [4], [5], [4], [5], [6]] \n",
        "\n",
        "[[2, 3, 4, 5], [3, 4, 5, 6], [4, 5, 6, 7], [5, 6, 7, 8]]\n",
        "\n",
        "[(1, 1), (2, 1), (3, 1), (1, 2), (2, 2), (3, 2), (1, 3), (2, 3), (3, 3)]"
      ]
    },
    {
      "cell_type": "code",
      "metadata": {
        "id": "fha5gv75etFO",
        "colab_type": "code",
        "colab": {
          "base_uri": "https://localhost:8080/",
          "height": 104
        },
        "outputId": "8dc24e30-9a96-401f-a476-d895f77685d8"
      },
      "source": [
        "inp_list_1 = ['x','y','z']\n",
        "print([alph*n for alph in inp_list_1 for n in range(1, 5)])\n",
        "\n",
        "print([alph*n for n in range(1,5) for alph in inp_list_1])\n",
        "\n",
        "inp_list_2 = [2,3,4]\n",
        "print([[ele+n] for ele in inp_list_2 for n in range(0,3)])\n",
        "\n",
        "inp_list_3 = [2,3,4,5]\n",
        "print([[ele+n for ele in inp_list_3] for n in range(0,4)])\n",
        "\n",
        "inp_list_4 = [1,2,3]\n",
        "print([(ele_2, ele_1) for ele_1 in inp_list_4 for ele_2 in inp_list_4])"
      ],
      "execution_count": 12,
      "outputs": [
        {
          "output_type": "stream",
          "text": [
            "['x', 'xx', 'xxx', 'xxxx', 'y', 'yy', 'yyy', 'yyyy', 'z', 'zz', 'zzz', 'zzzz']\n",
            "['x', 'y', 'z', 'xx', 'yy', 'zz', 'xxx', 'yyy', 'zzz', 'xxxx', 'yyyy', 'zzzz']\n",
            "[[2], [3], [4], [3], [4], [5], [4], [5], [6]]\n",
            "[[2, 3, 4, 5], [3, 4, 5, 6], [4, 5, 6, 7], [5, 6, 7, 8]]\n",
            "[(1, 1), (2, 1), (3, 1), (1, 2), (2, 2), (3, 2), (1, 3), (2, 3), (3, 3)]\n"
          ],
          "name": "stdout"
        }
      ]
    },
    {
      "cell_type": "code",
      "metadata": {
        "id": "jeu7w7k1s02l",
        "colab_type": "code",
        "colab": {}
      },
      "source": [
        ""
      ],
      "execution_count": 0,
      "outputs": []
    }
  ]
}