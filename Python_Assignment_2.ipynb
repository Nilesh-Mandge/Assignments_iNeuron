{
  "nbformat": 4,
  "nbformat_minor": 0,
  "metadata": {
    "colab": {
      "name": "Python Assignment 2.ipynb",
      "provenance": []
    },
    "kernelspec": {
      "name": "python3",
      "display_name": "Python 3"
    }
  },
  "cells": [
    {
      "cell_type": "markdown",
      "metadata": {
        "id": "rFNXcXKsBzWv",
        "colab_type": "text"
      },
      "source": [
        "Question 1. Create the below pattern using nested for loop in Python."
      ]
    },
    {
      "cell_type": "code",
      "metadata": {
        "id": "hq0c3-QYBaHk",
        "colab_type": "code",
        "colab": {
          "base_uri": "https://localhost:8080/",
          "height": 191
        },
        "outputId": "3b6c6c3b-ac3c-4a0b-e3d4-a6f78c81764b"
      },
      "source": [
        "num = int(input(\"Enter the Numbers: \"))\n",
        "for x in range(num):\n",
        "  print(\"* \" * (x+1))\n",
        "for y in range(num-1, 0, -1):\n",
        "  print(\"* \" * y)"
      ],
      "execution_count": 1,
      "outputs": [
        {
          "output_type": "stream",
          "text": [
            "Enter the Numbers: 5\n",
            "* \n",
            "* * \n",
            "* * * \n",
            "* * * * \n",
            "* * * * * \n",
            "* * * * \n",
            "* * * \n",
            "* * \n",
            "* \n"
          ],
          "name": "stdout"
        }
      ]
    },
    {
      "cell_type": "markdown",
      "metadata": {
        "id": "5q8Ec_86ELz1",
        "colab_type": "text"
      },
      "source": [
        "**Question 2:**\n",
        "Write a Python program to reverse a word after accepting the input from the user.\n",
        "\n",
        "**Sample Output:**\n",
        "\n",
        "Input word: ineuron\n",
        "\n",
        "Output: norueni"
      ]
    },
    {
      "cell_type": "code",
      "metadata": {
        "id": "dCE1hIRAEJuO",
        "colab_type": "code",
        "colab": {
          "base_uri": "https://localhost:8080/",
          "height": 52
        },
        "outputId": "2dcc5584-99b5-4146-a34c-7199c525cd01"
      },
      "source": [
        "user_input = input(\"Input word:\")\n",
        "print(\"Output: \",user_input[::-1])"
      ],
      "execution_count": 2,
      "outputs": [
        {
          "output_type": "stream",
          "text": [
            "Input word:ineuron\n",
            "Output:  norueni\n"
          ],
          "name": "stdout"
        }
      ]
    }
  ]
}