{
  "nbformat": 4,
  "nbformat_minor": 0,
  "metadata": {
    "colab": {
      "name": "Numpy_Assignment.ipynb",
      "provenance": [],
      "collapsed_sections": []
    },
    "kernelspec": {
      "name": "python3",
      "display_name": "Python 3"
    }
  },
  "cells": [
    {
      "cell_type": "markdown",
      "metadata": {
        "id": "99ysSqhJKaix",
        "colab_type": "text"
      },
      "source": [
        "### Write a function so that the columns of the output matrix are powers of the input vector.\n",
        "\n",
        "### The order of the powers is determined by the increasing boolean argument. Specifically, when increasing is False, the i-th output column is the input vector raised element-wise to the power of N - i - 1.\n",
        "\n",
        "HINT: Such a matrix with a geometric progression in each row is named for Alexandre-\n",
        "Theophile Vandermonde."
      ]
    },
    {
      "cell_type": "code",
      "metadata": {
        "id": "kpfzd2DAbkOg",
        "colab_type": "code",
        "colab": {}
      },
      "source": [
        "import numpy as np"
      ],
      "execution_count": 1,
      "outputs": []
    },
    {
      "cell_type": "code",
      "metadata": {
        "id": "rv8RWvz6KqGc",
        "colab_type": "code",
        "colab": {}
      },
      "source": [
        "def mat_power(in_vec, n, increasing = False):\n",
        "  if increasing:\n",
        "    Output_m = np.matrix([x**i for x in in_vec for i in range(n)]).reshape(in_vec.size, n)\n",
        "  else:\n",
        "    Output_m = np.matrix([x**(n-i-1) for x in in_vec for i in range(n)]).reshape(in_vec.size, n)\n",
        "  return Output_m"
      ],
      "execution_count": 12,
      "outputs": []
    },
    {
      "cell_type": "code",
      "metadata": {
        "id": "rEpActG5Lcv4",
        "colab_type": "code",
        "colab": {}
      },
      "source": [
        "in_vec = np.array([2, 3, 5, 4])\n",
        "n = 3"
      ],
      "execution_count": 18,
      "outputs": []
    },
    {
      "cell_type": "code",
      "metadata": {
        "id": "qF6tK_A4LmPL",
        "colab_type": "code",
        "colab": {
          "base_uri": "https://localhost:8080/",
          "height": 87
        },
        "outputId": "d0cdc539-04cb-45dc-fa56-954650e8e7d0"
      },
      "source": [
        "Output_mat = mat_power(in_vec, n, True)\n",
        "Output_mat"
      ],
      "execution_count": 19,
      "outputs": [
        {
          "output_type": "execute_result",
          "data": {
            "text/plain": [
              "matrix([[ 1,  2,  4],\n",
              "        [ 1,  3,  9],\n",
              "        [ 1,  5, 25],\n",
              "        [ 1,  4, 16]])"
            ]
          },
          "metadata": {
            "tags": []
          },
          "execution_count": 19
        }
      ]
    },
    {
      "cell_type": "code",
      "metadata": {
        "id": "73iB9UaRL6EK",
        "colab_type": "code",
        "colab": {
          "base_uri": "https://localhost:8080/",
          "height": 87
        },
        "outputId": "8e7639fd-8145-40a3-a153-1c200af31093"
      },
      "source": [
        "Output_mat = mat_power(in_vec, n, False)\n",
        "Output_mat"
      ],
      "execution_count": 20,
      "outputs": [
        {
          "output_type": "execute_result",
          "data": {
            "text/plain": [
              "matrix([[ 4,  2,  1],\n",
              "        [ 9,  3,  1],\n",
              "        [25,  5,  1],\n",
              "        [16,  4,  1]])"
            ]
          },
          "metadata": {
            "tags": []
          },
          "execution_count": 20
        }
      ]
    },
    {
      "cell_type": "markdown",
      "metadata": {
        "id": "fO9Etx-BNQkx",
        "colab_type": "text"
      },
      "source": [
        "Problem Statement 2:\n",
        "\n",
        "Given a sequence of n values x1, x2, ..., xn and a window size k>0, the k-th moving average of\n",
        "\n",
        "the given sequence is defined as follows:\n",
        "\n",
        "The moving average sequence has n-k+1 elements as shown below.\n",
        "\n",
        "The moving averages with k=4 of a ten-value sequence (n=10) is shown below\n",
        "\n",
        "i 1 2 3 4 5 6 7 8 9 10\n",
        "\n",
        "===== == == == == == == == == == ==\n",
        "\n",
        "Input 10 20 30 40 50 60 70 80 90 100\n",
        "\n",
        "y1 25 = (10+20+30+40)/4\n",
        "\n",
        "y2 35 = (20+30+40+50)/4\n",
        "\n",
        "y3 45 = (30+40+50+60)/4\n",
        "\n",
        "y4 55 = (40+50+60+70)/4\n",
        "\n",
        "y5 65 = (50+60+70+80)/4\n",
        "\n",
        "y6 75 = (60+70+80+90)/4\n",
        "\n",
        "y7 85 = (70+80+90+100)/4\n",
        "\n",
        "Thus, the moving average sequence has n-k+1=10-4+1=7 values.\n"
      ]
    },
    {
      "cell_type": "markdown",
      "metadata": {
        "id": "Lc7QsfItNa9u",
        "colab_type": "text"
      },
      "source": [
        "# Question: Write a function to find moving average in an array over a window: \n",
        "Test it over [3, 5, 7, 2, 8, 10, 11, 65, 72, 81, 99, 100, 150] and window of 3."
      ]
    },
    {
      "cell_type": "code",
      "metadata": {
        "id": "Mb06Fo4XM1ex",
        "colab_type": "code",
        "colab": {}
      },
      "source": [
        "def Mov_avgFun(in_list, k):\n",
        "  count = 1\n",
        "  mov_avg = np.convolve(in_list, np.ones(k), 'valid') / k\n",
        "  for i in mov_avg:\n",
        "    print(\"y{0} = {1:.2f} \".format(count, i))\n",
        "    count += 1"
      ],
      "execution_count": 38,
      "outputs": []
    },
    {
      "cell_type": "code",
      "metadata": {
        "id": "L6iyBUAuOmYd",
        "colab_type": "code",
        "colab": {
          "base_uri": "https://localhost:8080/",
          "height": 260
        },
        "outputId": "4b795065-fad4-4864-80f9-11a9ceef36d3"
      },
      "source": [
        "value = np.array([3, 5, 7, 2, 8, 10, 11, 65, 72, 81, 99, 100, 150])\n",
        "k = 3\n",
        "Mov_avgFun(value, k)"
      ],
      "execution_count": 40,
      "outputs": [
        {
          "output_type": "stream",
          "text": [
            "[  5.           4.66666667   5.66666667   6.66666667   9.66666667\n",
            "  28.66666667  49.33333333  72.66666667  84.          93.33333333\n",
            " 116.33333333]\n",
            "y1 = 5.00 \n",
            "y2 = 4.67 \n",
            "y3 = 5.67 \n",
            "y4 = 6.67 \n",
            "y5 = 9.67 \n",
            "y6 = 28.67 \n",
            "y7 = 49.33 \n",
            "y8 = 72.67 \n",
            "y9 = 84.00 \n",
            "y10 = 93.33 \n",
            "y11 = 116.33 \n"
          ],
          "name": "stdout"
        }
      ]
    },
    {
      "cell_type": "code",
      "metadata": {
        "id": "vBVRmdOSOzO5",
        "colab_type": "code",
        "colab": {
          "base_uri": "https://localhost:8080/",
          "height": 35
        },
        "outputId": "81b8cff5-0d80-4d3b-9e00-9f60a9ed64f9"
      },
      "source": [
        "np.ones(k)"
      ],
      "execution_count": 37,
      "outputs": [
        {
          "output_type": "execute_result",
          "data": {
            "text/plain": [
              "array([1., 1., 1.])"
            ]
          },
          "metadata": {
            "tags": []
          },
          "execution_count": 37
        }
      ]
    },
    {
      "cell_type": "code",
      "metadata": {
        "id": "xWHxJDAmQSv4",
        "colab_type": "code",
        "colab": {}
      },
      "source": [
        ""
      ],
      "execution_count": null,
      "outputs": []
    }
  ]
}